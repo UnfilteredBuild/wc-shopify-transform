{
 "cells": [
  {
   "cell_type": "code",
   "execution_count": null,
   "metadata": {},
   "outputs": [],
   "source": [
    "# Shopify Scripts Notebook\n",
    "\n",
    "# This notebook is for generating csv tranformation exports to be imported into Shopify\n"
   ]
  },
  {
   "cell_type": "code",
   "execution_count": 1,
   "id": "fpdhtb7be5",
   "metadata": {},
   "outputs": [
    {
     "name": "stdout",
     "output_type": "stream",
     "text": [
      "Requirement already satisfied: pandas in /opt/homebrew/lib/python3.11/site-packages (2.3.1)\n",
      "Requirement already satisfied: numpy>=1.23.2 in /opt/homebrew/lib/python3.11/site-packages (from pandas) (2.3.2)\n",
      "Requirement already satisfied: python-dateutil>=2.8.2 in /opt/homebrew/lib/python3.11/site-packages (from pandas) (2.8.2)\n",
      "Requirement already satisfied: pytz>=2020.1 in /opt/homebrew/lib/python3.11/site-packages (from pandas) (2024.1)\n",
      "Requirement already satisfied: tzdata>=2022.7 in /opt/homebrew/lib/python3.11/site-packages (from pandas) (2025.2)\n",
      "Requirement already satisfied: six>=1.5 in /opt/homebrew/lib/python3.11/site-packages (from python-dateutil>=2.8.2->pandas) (1.16.0)\n",
      "\n",
      "\u001b[1m[\u001b[0m\u001b[34;49mnotice\u001b[0m\u001b[1;39;49m]\u001b[0m\u001b[39;49m A new release of pip is available: \u001b[0m\u001b[31;49m24.3.1\u001b[0m\u001b[39;49m -> \u001b[0m\u001b[32;49m25.2\u001b[0m\n",
      "\u001b[1m[\u001b[0m\u001b[34;49mnotice\u001b[0m\u001b[1;39;49m]\u001b[0m\u001b[39;49m To update, run: \u001b[0m\u001b[32;49mpython3.11 -m pip install --upgrade pip\u001b[0m\n",
      "Note: you may need to restart the kernel to use updated packages.\n"
     ]
    }
   ],
   "source": [
    "# Install required packages (run this first)\n",
    "%pip install pandas"
   ]
  },
  {
   "cell_type": "code",
   "execution_count": 2,
   "id": "gkscnwl37mn",
   "metadata": {},
   "outputs": [
    {
     "name": "stdout",
     "output_type": "stream",
     "text": [
      "Created outputs directory\n"
     ]
    }
   ],
   "source": [
    "# Create outputs directory\n",
    "import os\n",
    "os.makedirs('outputs', exist_ok=True)\n",
    "print(\"Created outputs directory\")"
   ]
  },
  {
   "cell_type": "code",
   "execution_count": 7,
   "id": "3yrl623bhm9",
   "metadata": {},
   "outputs": [
    {
     "name": "stdout",
     "output_type": "stream",
     "text": [
      "WooCommerce to Shopify transformation function loaded!\n"
     ]
    }
   ],
   "source": [
    "import pandas as pd\n",
    "import re\n",
    "\n",
    "def transform_wc_to_shopify(input_file, output_file):\n",
    "    \"\"\"\n",
    "    Transform WooCommerce export CSV to Shopify import format\n",
    "    \"\"\"\n",
    "    # Read the WooCommerce export\n",
    "    df = pd.read_csv(input_file)\n",
    "    \n",
    "    # Create empty Shopify DataFrame with required columns\n",
    "    shopify_columns = [\n",
    "        'Handle', 'Title', 'Body (HTML)', 'Vendor', 'Product Category', 'Type', 'Tags', 'Published',\n",
    "        'Option1 Name', 'Option1 Value', 'Option2 Name', 'Option2 Value', 'Option3 Name', 'Option3 Value',\n",
    "        'Variant SKU', 'Variant Grams', 'Variant Inventory Tracker', 'Variant Inventory Qty', \n",
    "        'Variant Inventory Policy', 'Variant Fulfillment Service', 'Variant Price', 'Variant Compare At Price',\n",
    "        'Variant Requires Shipping', 'Variant Taxable', 'Variant Barcode', 'Image Src', 'Image Position',\n",
    "        'Image Alt Text', 'Gift Card', 'SEO Title', 'SEO Description', 'Google Shopping / Google Product Category',\n",
    "        'Google Shopping / Gender', 'Google Shopping / Age Group', 'Google Shopping / MPN', \n",
    "        'Google Shopping / Condition', 'Google Shopping / Custom Product', 'Variant Image', 'Variant Weight Unit',\n",
    "        'Variant Tax Code', 'Cost per item', 'Included / United States', 'Price / United States',\n",
    "        'Compare At Price / United States', 'Included / International', 'Price / International', \n",
    "        'Compare At Price / International', 'Status'\n",
    "    ]\n",
    "    \n",
    "    shopify_df = pd.DataFrame(columns=shopify_columns)\n",
    "    \n",
    "    for idx, row in df.iterrows():\n",
    "        # Create handle from product name (URL-friendly)\n",
    "        handle = re.sub(r'[^\\w\\s-]', '', str(row['Name'])).strip()\n",
    "        handle = re.sub(r'[-\\s]+', '-', handle).lower()\n",
    "        \n",
    "        # Extract images and create multiple rows if needed\n",
    "        images = []\n",
    "        if pd.notna(row['Images']) and row['Images']:\n",
    "            images = [img.strip() for img in str(row['Images']).split(',')]\n",
    "        \n",
    "        # Convert weight from lbs to grams\n",
    "        weight_grams = 0\n",
    "        if pd.notna(row['Weight (lbs)']) and row['Weight (lbs)']:\n",
    "            weight_grams = int(float(row['Weight (lbs)']) * 453.592)\n",
    "        \n",
    "        # Convert tags\n",
    "        tags = \"\"\n",
    "        if pd.notna(row['Tags']) and row['Tags']:\n",
    "            tag_list = [tag.strip().replace('#', '') for tag in str(row['Tags']).split(',')]\n",
    "            tags = ', '.join(tag_list)\n",
    "        \n",
    "        # Determine published status\n",
    "        published = 'TRUE' if row['Published'] != -1 else 'FALSE'\n",
    "        status = 'active' if published == 'TRUE' else 'archived'\n",
    "        \n",
    "        # Process description - remove all carriage returns, newlines, and line breaks\n",
    "        description = ''\n",
    "        if pd.notna(row['Description']):\n",
    "            description = re.sub(r'[\\r\\n\\x0b\\x0c\\x85\\u2028\\u2029]+', '', str(row['Description']))\n",
    "        \n",
    "        # Handle pricing logic\n",
    "        # In WooCommerce: Sale price is the discounted price, Regular price is the original price\n",
    "        # In Shopify: Variant Price is the selling price, Compare At Price is the original price\n",
    "        variant_price = row['Sale price'] if pd.notna(row['Sale price']) and row['Sale price'] else row['Regular price']\n",
    "        compare_at_price = row['Regular price'] if pd.notna(row['Sale price']) and row['Sale price'] and row['Sale price'] != row['Regular price'] else ''\n",
    "        \n",
    "        # Main product row\n",
    "        new_row = {\n",
    "            'Handle': handle,\n",
    "            'Title': row['Name'],\n",
    "            'Body (HTML)': description,\n",
    "            'Vendor': '', # Don't touch this line\n",
    "            'Product Category': row['Categories'] if pd.notna(row['Categories']) else '',\n",
    "            'Type': '', # Don't touch this line\n",
    "            'Tags': tags,\n",
    "            'Published': published,\n",
    "            'Option1 Name': '',\n",
    "            'Option1 Value': '',\n",
    "            'Option2 Name': '',\n",
    "            'Option2 Value': '',\n",
    "            'Option3 Name': '',\n",
    "            'Option3 Value': '',\n",
    "            'Variant SKU': row['SKU'],\n",
    "            'Variant Grams': weight_grams,\n",
    "            'Variant Inventory Tracker': 'shopify',\n",
    "            'Variant Inventory Qty': row['Stock'] if pd.notna(row['Stock']) and row['In stock?'] else 0,\n",
    "            'Variant Inventory Policy': 'deny',\n",
    "            'Variant Fulfillment Service': 'manual',\n",
    "            'Variant Price': variant_price if pd.notna(variant_price) else 0,\n",
    "            'Variant Compare At Price': compare_at_price,\n",
    "            'Variant Requires Shipping': 'TRUE',\n",
    "            'Variant Taxable': 'TRUE' if row['Tax status'] == 'taxable' else 'FALSE',\n",
    "            'Variant Barcode': '',\n",
    "            'Image Src': images[0] if images else '',\n",
    "            'Image Position': '1' if images else '',\n",
    "            'Image Alt Text': row['Name'] if images else '',\n",
    "            'Gift Card': 'FALSE',\n",
    "            'SEO Title': row['Name'],\n",
    "            'SEO Description': row['Short description'] if pd.notna(row['Short description']) else '',\n",
    "            'Google Shopping / Google Product Category': '',\n",
    "            'Google Shopping / Gender': '',\n",
    "            'Google Shopping / Age Group': '',\n",
    "            'Google Shopping / MPN': '', # Don't touch this line\n",
    "            'Google Shopping / Condition': '',\n",
    "            'Google Shopping / Custom Product': '',\n",
    "            'Variant Image': '',\n",
    "            'Variant Weight Unit': 'g',\n",
    "            'Variant Tax Code': '',\n",
    "            'Cost per item': '',\n",
    "            'Included / United States': 'TRUE',\n",
    "            'Price / United States': '',\n",
    "            'Compare At Price / United States': '',\n",
    "            'Included / International': 'TRUE',\n",
    "            'Price / International': '',\n",
    "            'Compare At Price / International': '',\n",
    "            'Status': status\n",
    "        }\n",
    "        \n",
    "        shopify_df = pd.concat([shopify_df, pd.DataFrame([new_row])], ignore_index=True)\n",
    "        \n",
    "        # Add additional rows for extra images\n",
    "        for i, image in enumerate(images[1:], 2):\n",
    "            image_row = {col: '' for col in shopify_columns}\n",
    "            image_row['Handle'] = handle\n",
    "            image_row['Image Src'] = image\n",
    "            image_row['Image Position'] = str(i)\n",
    "            image_row['Image Alt Text'] = row['Name']\n",
    "            \n",
    "            shopify_df = pd.concat([shopify_df, pd.DataFrame([image_row])], ignore_index=True)\n",
    "    \n",
    "    # Save to output file\n",
    "    shopify_df.to_csv(output_file, index=False)\n",
    "    print(f\"Transformation complete! Output saved to: {output_file}\")\n",
    "    \n",
    "    return shopify_df\n",
    "\n",
    "print(\"WooCommerce to Shopify transformation function loaded!\")"
   ]
  },
  {
   "cell_type": "code",
   "execution_count": 8,
   "id": "a7uawmua5hv",
   "metadata": {},
   "outputs": [
    {
     "name": "stdout",
     "output_type": "stream",
     "text": [
      "Transformation complete! Output saved to: outputs/shopify_transformed_2025-08-07.csv\n",
      "\n",
      "Processed 6 rows\n",
      "\n",
      "First few products:\n",
      "                                              Handle  \\\n",
      "0  2024-panini-minecraft-trading-cards-72ct-mega-box   \n",
      "1  2024-panini-minecraft-trading-cards-72ct-mega-box   \n",
      "2  2024-panini-minecraft-trading-cards-72ct-mega-box   \n",
      "3  2024-panini-minecraft-trading-cards-72ct-mega-box   \n",
      "4  2024-panini-minecraft-trading-cards-72ct-mega-box   \n",
      "\n",
      "                                               Title              Variant SKU  \\\n",
      "0  2024 Panini Minecraft Trading Cards. 72ct. Meg...  24PnMncrftENT MGB 17127   \n",
      "1                                                                               \n",
      "2                                                                               \n",
      "3                                                                               \n",
      "4                                                                               \n",
      "\n",
      "  Variant Price                                               Tags  \n",
      "0         34.99  EntertainmentTradingCards, MegaBox, Minecraft,...  \n",
      "1                                                                   \n",
      "2                                                                   \n",
      "3                                                                   \n",
      "4                                                                   \n"
     ]
    },
    {
     "name": "stderr",
     "output_type": "stream",
     "text": [
      "/var/folders/sw/2fzd_kbd1770h__4kjvs0d300000gn/T/ipykernel_56612/3779934140.py:116: FutureWarning: The behavior of DataFrame concatenation with empty or all-NA entries is deprecated. In a future version, this will no longer exclude empty or all-NA columns when determining the result dtypes. To retain the old behavior, exclude the relevant entries before the concat operation.\n",
      "  shopify_df = pd.concat([shopify_df, pd.DataFrame([new_row])], ignore_index=True)\n"
     ]
    }
   ],
   "source": [
    "# Run the transformation\n",
    "from datetime import datetime\n",
    "\n",
    "input_file = 'inputs/wc_export_1.csv'\n",
    "current_date = datetime.now().strftime('%Y-%m-%d')\n",
    "output_file = f'outputs/shopify_transformed_{current_date}.csv'\n",
    "\n",
    "# Execute the transformation\n",
    "result_df = transform_wc_to_shopify(input_file, output_file)\n",
    "\n",
    "print(f\"\\nProcessed {len(result_df)} rows\")\n",
    "print(\"\\nFirst few products:\")\n",
    "print(result_df[['Handle', 'Title', 'Variant SKU', 'Variant Price', 'Tags']].head())"
   ]
  }
 ],
 "metadata": {
  "kernelspec": {
   "display_name": "Python 3",
   "language": "python",
   "name": "python3"
  },
  "language_info": {
   "codemirror_mode": {
    "name": "ipython",
    "version": 3
   },
   "file_extension": ".py",
   "mimetype": "text/x-python",
   "name": "python",
   "nbconvert_exporter": "python",
   "pygments_lexer": "ipython3",
   "version": "3.11.11"
  }
 },
 "nbformat": 4,
 "nbformat_minor": 5
}
